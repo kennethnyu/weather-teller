{
 "cells": [
  {
   "cell_type": "code",
   "execution_count": 15,
   "metadata": {
    "ExecuteTime": {
     "end_time": "2018-09-21T12:36:45.281619Z",
     "start_time": "2018-09-21T12:36:42.391208Z"
    }
   },
   "outputs": [],
   "source": [
    "# Modules\n",
    "from bs4 import BeautifulSoup\n",
    "import datetime as dt\n",
    "import pandas as pd\n",
    "import pyttsx3\n",
    "from selenium import webdriver\n",
    "import time"
   ]
  },
  {
   "cell_type": "code",
   "execution_count": 2,
   "metadata": {
    "ExecuteTime": {
     "end_time": "2018-09-21T12:09:07.745193Z",
     "start_time": "2018-09-21T12:08:53.109151Z"
    }
   },
   "outputs": [],
   "source": [
    "# Opens a Chrome browser\n",
    "driver=webdriver.Chrome()\n",
    "# Go to Weather Network Page for Location\n",
    "driver.get(\"https://www.theweathernetwork.com/ca/36-hour-weather-forecast/ontario/willowdale-west\")\n",
    "# Waits for page to load\n",
    "time.sleep(5)\n",
    "# Parses the HTML\n",
    "soup=BeautifulSoup(driver.page_source, \"html.parser\")\n",
    "# Closes browser\n",
    "driver.close()\n",
    "# Looks for important period columns\n",
    "window_of_day=soup.find_all(\"div\", {\"class\":\"wxColumn\"})"
   ]
  },
  {
   "cell_type": "code",
   "execution_count": 3,
   "metadata": {
    "ExecuteTime": {
     "end_time": "2018-09-21T12:09:07.805596Z",
     "start_time": "2018-09-21T12:09:07.746691Z"
    }
   },
   "outputs": [],
   "source": [
    "# Dictionary of period labels and its weather details\n",
    "forecast_of_today={}\n",
    "# Iterate over the periods\n",
    "for window in window_of_day:\n",
    "    # Save only today\n",
    "    today=dt.datetime.today()\n",
    "    short_day_of_week=today.strftime(\"%a\")\n",
    "    if window.find(\"span\", {\"class\":\"day\"}).text==short_day_of_week:\n",
    "        # Creates keys for the periods\n",
    "        periodLabel=window.find(\"span\", {\"class\":\"periodLabel\"}).text\n",
    "        try:\n",
    "            forecast_of_today[periodLabel]\n",
    "        except:\n",
    "            forecast_of_today[periodLabel] = {}\n",
    "        # Description\n",
    "        description=window.find(\"span\", {\"class\":\"wx_description\"}).text\n",
    "        forecast_of_today[periodLabel][\"description\"]=description\n",
    "        # Temp\n",
    "        temp=window.find(\"span\", {\"class\":\"wxperiod_temp\"}).text\n",
    "        forecast_of_today[periodLabel][\"temp\"]=temp\n",
    "        # Row Entries\n",
    "        rows=window.find_all(\"div\", {\"class\":\"wx_detailed-metrics\"})\n",
    "        # Feels Like\n",
    "        feels_like=rows[0].text\n",
    "        forecast_of_today[periodLabel][\"feels_like\"]=feels_like\n",
    "        # Probability of Precipitation\n",
    "        pop=rows[1].text\n",
    "        forecast_of_today[periodLabel][\"pop\"]=pop\n",
    "        # Rain\n",
    "        rain=rows[2].text\n",
    "        forecast_of_today[periodLabel][\"rain\"]=rain\n",
    "        # Wind\n",
    "        wind=rows[3].text\n",
    "        forecast_of_today[periodLabel][\"wind\"]=wind\n",
    "        # Wind Gust\n",
    "        wind_gust=rows[4].text\n",
    "        forecast_of_today[periodLabel][\"wind_gust\"]=wind_gust\n",
    "        # Humidity\n",
    "        humidity=rows[5].text\n",
    "        forecast_of_today[periodLabel][\"humidity\"]=humidity"
   ]
  },
  {
   "cell_type": "code",
   "execution_count": 11,
   "metadata": {
    "ExecuteTime": {
     "end_time": "2018-09-21T12:15:29.422869Z",
     "start_time": "2018-09-21T12:15:29.415868Z"
    }
   },
   "outputs": [],
   "source": [
    "def temperature_response(the_temp):\n",
    "    if the_temp>32:\n",
    "        return \"Hotter than hell.\"\n",
    "    elif the_temp>23:\n",
    "        return \"Pretty hot outside.\"\n",
    "    elif the_temp>16:\n",
    "        return \"Just right.\"\n",
    "    elif the_temp>5:\n",
    "        return \"Bit chilly.\"\n",
    "    elif the_temp>-6:\n",
    "        return \"Winter is coming.\"\n",
    "    else:\n",
    "        return \"Winter is here.\""
   ]
  },
  {
   "cell_type": "code",
   "execution_count": 12,
   "metadata": {
    "ExecuteTime": {
     "end_time": "2018-09-21T12:15:29.638602Z",
     "start_time": "2018-09-21T12:15:29.633111Z"
    }
   },
   "outputs": [],
   "source": [
    "def rain_response(rainfall):\n",
    "    if rainfall==\"-\":\n",
    "        return \"no rain\"\n",
    "    elif rainfall==\"<1mm\":\n",
    "        return \"drizzling\"\n",
    "    elif rainfall==\"1-3mm\":\n",
    "        return \"light rain\"\n",
    "    elif rainfall==\"~5mm\":\n",
    "        return \"heavy rain\""
   ]
  },
  {
   "cell_type": "code",
   "execution_count": 14,
   "metadata": {
    "ExecuteTime": {
     "end_time": "2018-09-21T12:17:21.973197Z",
     "start_time": "2018-09-21T12:15:52.745612Z"
    }
   },
   "outputs": [],
   "source": [
    "# Initializes object\n",
    "announcer = pyttsx3.init()\n",
    "# Gets list of voices and select the one you prefer\n",
    "list_of_voices = announcer.getProperty(\"voices\")\n",
    "announcer.setProperty(\"voice\", list_of_voices[1].id)\n",
    "# Alter speech rate\n",
    "announcer.setProperty(\"rate\", 180)\n",
    "\n",
    "long_day_of_week=today.strftime(\"%A\")\n",
    "# Iterate over each period\n",
    "period_list=[\"Morning\", \"Afternoon\", \"Evening\", \"Overnight\"]\n",
    "for period in period_list:\n",
    "    description=forecast_of_today[period][\"description\"]\n",
    "    temp=forecast_of_today[period][\"temp\"]\n",
    "    feels_like=forecast_of_today[period][\"feels_like\"]\n",
    "    pop=forecast_of_today[period][\"pop\"]\n",
    "    rain=forecast_of_today[period][\"rain\"]\n",
    "    wind_gust=forecast_of_today[period][\"wind_gust\"]\n",
    "    humidity=forecast_of_today[period][\"humidity\"]\n",
    "    announcer.say(\"{day} {period}\".format(day=long_day_of_week, period=period))\n",
    "    announcer.say(\"{description}.\".format(description=description))\n",
    "    announcer.say(\"Temperature is {temp} degrees, feels like {feels_like} degrees.\".format(temp=temp, feels_like=feels_like))\n",
    "    announcer.say(temperature_response(int(feels_like)))\n",
    "    announcer.say(\"{pop} chance of {will_rain}.\".format(pop=pop, will_rain=rain_response(rain)))\n",
    "    announcer.say(\"Lastly, humidity will be {hum} with a wind gust of {w_g}km/h.\".format(hum=humidity, w_g=wind_gust))\n",
    "    announcer.runAndWait()"
   ]
  },
  {
   "cell_type": "code",
   "execution_count": 29,
   "metadata": {
    "ExecuteTime": {
     "end_time": "2018-09-21T12:42:32.314653Z",
     "start_time": "2018-09-21T12:42:32.310158Z"
    }
   },
   "outputs": [],
   "source": [
    "df=pd.DataFrame.from_dict(forecast_of_today).transpose().reset_index()"
   ]
  },
  {
   "cell_type": "code",
   "execution_count": 33,
   "metadata": {
    "ExecuteTime": {
     "end_time": "2018-09-21T12:43:07.444667Z",
     "start_time": "2018-09-21T12:43:07.440691Z"
    }
   },
   "outputs": [],
   "source": [
    "df[\"Date\"]=today.strftime(\"%Y-%m-%d\")\n",
    "df[\"Day\"]=today.strftime(\"%A\")"
   ]
  },
  {
   "cell_type": "code",
   "execution_count": 35,
   "metadata": {
    "ExecuteTime": {
     "end_time": "2018-09-21T12:44:36.128312Z",
     "start_time": "2018-09-21T12:44:36.123820Z"
    }
   },
   "outputs": [],
   "source": [
    "df.rename(columns={\"index\":\"Period\", \"description\":\"Description\", \"feels_like\":\"Feels Like\",\n",
    "                   \"humidity\":\"Humidity\", \"pop\":\"PoP\", \"rain\":\" Rain\",\n",
    "                  \"temp\":\"Temperature\", \"wind\":\"Wind\", \"wind_gust\":\"Wind Gust\"}, inplace=True)"
   ]
  },
  {
   "cell_type": "code",
   "execution_count": 53,
   "metadata": {
    "ExecuteTime": {
     "end_time": "2018-09-21T12:49:29.008624Z",
     "start_time": "2018-09-21T12:49:29.004136Z"
    }
   },
   "outputs": [],
   "source": [
    "main_frame=pd.read_csv(\"Weather History.csv\")"
   ]
  },
  {
   "cell_type": "code",
   "execution_count": 55,
   "metadata": {
    "ExecuteTime": {
     "end_time": "2018-09-21T12:49:32.563782Z",
     "start_time": "2018-09-21T12:49:32.555292Z"
    }
   },
   "outputs": [
    {
     "name": "stdout",
     "output_type": "stream",
     "text": [
      "Duplicate\n"
     ]
    }
   ],
   "source": [
    "if today.strftime(\"%Y-%m-%d\") not in main_frame[\"Date\"].unique():\n",
    "    df=main_frame.append(df)\n",
    "    df.set_index(\"Date\").to_csv(\"Weather History.csv\")\n",
    "else:\n",
    "    print(\"Duplicate\")"
   ]
  },
  {
   "cell_type": "code",
   "execution_count": null,
   "metadata": {},
   "outputs": [],
   "source": []
  }
 ],
 "metadata": {
  "kernelspec": {
   "display_name": "Python 3",
   "language": "python",
   "name": "python3"
  },
  "language_info": {
   "codemirror_mode": {
    "name": "ipython",
    "version": 3
   },
   "file_extension": ".py",
   "mimetype": "text/x-python",
   "name": "python",
   "nbconvert_exporter": "python",
   "pygments_lexer": "ipython3",
   "version": "3.6.3"
  },
  "toc": {
   "nav_menu": {},
   "number_sections": true,
   "sideBar": true,
   "skip_h1_title": false,
   "toc_cell": false,
   "toc_position": {},
   "toc_section_display": "block",
   "toc_window_display": false
  }
 },
 "nbformat": 4,
 "nbformat_minor": 2
}
