{
 "cells": [
  {
   "cell_type": "code",
   "execution_count": 50,
   "metadata": {
    "ExecuteTime": {
     "end_time": "2018-09-21T03:38:29.759976Z",
     "start_time": "2018-09-21T03:38:29.757469Z"
    }
   },
   "outputs": [],
   "source": [
    "from bs4 import BeautifulSoup\n",
    "import datetime as dt\n",
    "from selenium import webdriver"
   ]
  },
  {
   "cell_type": "code",
   "execution_count": 52,
   "metadata": {
    "ExecuteTime": {
     "end_time": "2018-09-21T03:38:46.166577Z",
     "start_time": "2018-09-21T03:38:46.163583Z"
    }
   },
   "outputs": [],
   "source": [
    "today=dt.datetime.today()"
   ]
  },
  {
   "cell_type": "code",
   "execution_count": 55,
   "metadata": {
    "ExecuteTime": {
     "end_time": "2018-09-21T03:39:31.602341Z",
     "start_time": "2018-09-21T03:39:31.597849Z"
    }
   },
   "outputs": [
    {
     "data": {
      "text/plain": [
       "'Thu'"
      ]
     },
     "execution_count": 55,
     "metadata": {},
     "output_type": "execute_result"
    }
   ],
   "source": [
    "today.strftime(\"%a\")"
   ]
  },
  {
   "cell_type": "code",
   "execution_count": null,
   "metadata": {},
   "outputs": [],
   "source": [
    "selenium"
   ]
  },
  {
   "cell_type": "code",
   "execution_count": 48,
   "metadata": {
    "ExecuteTime": {
     "end_time": "2018-09-21T03:38:05.631873Z",
     "start_time": "2018-09-21T03:38:02.251477Z"
    }
   },
   "outputs": [],
   "source": [
    "driver=webdriver.Chrome()"
   ]
  },
  {
   "cell_type": "code",
   "execution_count": 49,
   "metadata": {
    "ExecuteTime": {
     "end_time": "2018-09-21T03:38:12.971609Z",
     "start_time": "2018-09-21T03:38:05.694259Z"
    }
   },
   "outputs": [],
   "source": [
    "driver.get(\"https://www.theweathernetwork.com/ca/36-hour-weather-forecast/ontario/willowdale-west\")"
   ]
  },
  {
   "cell_type": "code",
   "execution_count": 58,
   "metadata": {
    "ExecuteTime": {
     "end_time": "2018-09-21T03:43:17.141597Z",
     "start_time": "2018-09-21T03:43:17.050743Z"
    }
   },
   "outputs": [],
   "source": [
    "soup=BeautifulSoup(driver.page_source, \"html.parser\")"
   ]
  },
  {
   "cell_type": "code",
   "execution_count": null,
   "metadata": {},
   "outputs": [],
   "source": []
  },
  {
   "cell_type": "code",
   "execution_count": null,
   "metadata": {},
   "outputs": [],
   "source": []
  },
  {
   "cell_type": "code",
   "execution_count": 47,
   "metadata": {
    "ExecuteTime": {
     "end_time": "2018-09-21T03:37:36.896286Z",
     "start_time": "2018-09-21T03:37:36.888298Z"
    }
   },
   "outputs": [
    {
     "ename": "AttributeError",
     "evalue": "module 'selenium.webdriver' has no attribute 'get'",
     "output_type": "error",
     "traceback": [
      "\u001b[1;31m---------------------------------------------------------------------------\u001b[0m",
      "\u001b[1;31mAttributeError\u001b[0m                            Traceback (most recent call last)",
      "\u001b[1;32m<ipython-input-47-cc597d0076fa>\u001b[0m in \u001b[0;36m<module>\u001b[1;34m()\u001b[0m\n\u001b[1;32m----> 1\u001b[1;33m \u001b[0mwebdriver\u001b[0m\u001b[1;33m.\u001b[0m\u001b[0mget\u001b[0m\u001b[1;33m(\u001b[0m\u001b[1;34m\"https://www.theweathernetwork.com/ca/36-hour-weather-forecast/ontario/willowdale-west\"\u001b[0m\u001b[1;33m)\u001b[0m\u001b[1;33m\u001b[0m\u001b[0m\n\u001b[0m",
      "\u001b[1;31mAttributeError\u001b[0m: module 'selenium.webdriver' has no attribute 'get'"
     ]
    }
   ],
   "source": [
    "webdriver.get(\"https://www.theweathernetwork.com/ca/36-hour-weather-forecast/ontario/willowdale-west\")"
   ]
  },
  {
   "cell_type": "code",
   "execution_count": null,
   "metadata": {},
   "outputs": [],
   "source": [
    "webdriver."
   ]
  },
  {
   "cell_type": "code",
   "execution_count": 5,
   "metadata": {
    "ExecuteTime": {
     "end_time": "2018-09-21T03:23:14.821659Z",
     "start_time": "2018-09-21T03:23:14.818664Z"
    }
   },
   "outputs": [],
   "source": [
    "from weather import Weather"
   ]
  },
  {
   "cell_type": "code",
   "execution_count": 7,
   "metadata": {
    "ExecuteTime": {
     "end_time": "2018-09-21T03:23:32.820949Z",
     "start_time": "2018-09-21T03:23:32.817954Z"
    }
   },
   "outputs": [],
   "source": [
    "weather = Weather()"
   ]
  },
  {
   "cell_type": "code",
   "execution_count": 9,
   "metadata": {
    "ExecuteTime": {
     "end_time": "2018-09-21T03:24:15.960782Z",
     "start_time": "2018-09-21T03:24:15.821602Z"
    }
   },
   "outputs": [],
   "source": [
    "location = weather.lookup_by_location(\"North York\")"
   ]
  },
  {
   "cell_type": "code",
   "execution_count": 37,
   "metadata": {
    "ExecuteTime": {
     "end_time": "2018-09-21T03:33:45.085737Z",
     "start_time": "2018-09-21T03:33:45.083238Z"
    }
   },
   "outputs": [],
   "source": [
    "a=location.forecast[1]"
   ]
  },
  {
   "cell_type": "code",
   "execution_count": 38,
   "metadata": {
    "ExecuteTime": {
     "end_time": "2018-09-21T03:33:45.319261Z",
     "start_time": "2018-09-21T03:33:45.315268Z"
    }
   },
   "outputs": [
    {
     "data": {
      "text/plain": [
       "'21 Sep 2018'"
      ]
     },
     "execution_count": 38,
     "metadata": {},
     "output_type": "execute_result"
    }
   ],
   "source": [
    "a.date"
   ]
  },
  {
   "cell_type": "code",
   "execution_count": 26,
   "metadata": {
    "ExecuteTime": {
     "end_time": "2018-09-21T03:31:18.347338Z",
     "start_time": "2018-09-21T03:31:18.343844Z"
    }
   },
   "outputs": [
    {
     "data": {
      "text/plain": [
       "'Cloudy'"
      ]
     },
     "execution_count": 26,
     "metadata": {},
     "output_type": "execute_result"
    }
   ],
   "source": [
    "location.condition.text"
   ]
  },
  {
   "cell_type": "code",
   "execution_count": 4,
   "metadata": {
    "ExecuteTime": {
     "end_time": "2018-09-21T03:22:37.723027Z",
     "start_time": "2018-09-21T03:22:37.708550Z"
    }
   },
   "outputs": [
    {
     "data": {
      "text/plain": [
       "<module 'weather' from 'c:\\\\users\\\\kenneth\\\\anaconda3\\\\lib\\\\site-packages\\\\weather\\\\__init__.py'>"
      ]
     },
     "execution_count": 4,
     "metadata": {},
     "output_type": "execute_result"
    }
   ],
   "source": [
    "weather"
   ]
  },
  {
   "cell_type": "code",
   "execution_count": null,
   "metadata": {},
   "outputs": [],
   "source": []
  }
 ],
 "metadata": {
  "kernelspec": {
   "display_name": "Python 3",
   "language": "python",
   "name": "python3"
  },
  "language_info": {
   "codemirror_mode": {
    "name": "ipython",
    "version": 3
   },
   "file_extension": ".py",
   "mimetype": "text/x-python",
   "name": "python",
   "nbconvert_exporter": "python",
   "pygments_lexer": "ipython3",
   "version": "3.6.3"
  },
  "toc": {
   "nav_menu": {},
   "number_sections": true,
   "sideBar": true,
   "skip_h1_title": false,
   "toc_cell": false,
   "toc_position": {},
   "toc_section_display": "block",
   "toc_window_display": false
  }
 },
 "nbformat": 4,
 "nbformat_minor": 2
}
